{
 "cells": [
  {
   "cell_type": "markdown",
   "id": "d8d264b0",
   "metadata": {},
   "source": [
    "# Bitcoin Present Price Prediction\n",
    "\n",
    "### Import relevant libraries"
   ]
  },
  {
   "cell_type": "code",
   "execution_count": 1,
   "id": "db10709f",
   "metadata": {},
   "outputs": [],
   "source": [
    "import numpy as np\n",
    "import matplotlib.pyplot as plt\n",
    "import pandas as pd\n",
    "import pandas_datareader as web\n",
    "import datetime as dt\n",
    "\n",
    "from sklearn.preprocessing import MinMaxScaler\n",
    "from tensorflow.keras.layers import Dense, Dropout, LSTM\n",
    "from tensorflow.keras.models import Sequential"
   ]
  },
  {
   "cell_type": "markdown",
   "id": "a2c8367e",
   "metadata": {},
   "source": [
    "### Loading Financial Data and Time Frame"
   ]
  },
  {
   "cell_type": "code",
   "execution_count": 2,
   "id": "c27e1a7e",
   "metadata": {},
   "outputs": [],
   "source": [
    "crypto_currency = 'BTC'\n",
    "against_cryptocurrency = 'USD'\n",
    "\n",
    "start = dt.datetime(2018,1,1)\n",
    "end = dt.datetime.now()\n",
    "\n",
    "data =  web.DataReader(f'{crypto_currency}-{against_cryptocurrency}', 'yahoo', start, end)\n"
   ]
  },
  {
   "cell_type": "markdown",
   "id": "2499dc60",
   "metadata": {},
   "source": [
    "### Preparing Data"
   ]
  },
  {
   "cell_type": "code",
   "execution_count": 3,
   "id": "b7a0ed99",
   "metadata": {},
   "outputs": [],
   "source": [
    "scaler = MinMaxScaler(feature_range=(0,1))\n",
    "scaled_data = scaler.fit_transform(data['Close'].values.reshape(-1,1))\n",
    "\n",
    "prediction_days = 60\n",
    "\n",
    "x_train, y_train = [], []\n",
    "\n",
    "for x in range(prediction_days, len(scaled_data)):\n",
    "    x_train.append(scaled_data[x-prediction_days:x, 0])\n",
    "    y_train.append(scaled_data[x, 0])\n",
    "    \n",
    "x_train, y_train = np.array(x_train), np.array(y_train)\n",
    "x_train = np.reshape(x_train, (x_train.shape[0], x_train.shape[1], 1))"
   ]
  },
  {
   "cell_type": "markdown",
   "id": "51272e6c",
   "metadata": {},
   "source": [
    "### Neural Network Model"
   ]
  },
  {
   "cell_type": "code",
   "execution_count": null,
   "id": "0f00b373",
   "metadata": {},
   "outputs": [
    {
     "name": "stdout",
     "output_type": "stream",
     "text": [
      "Epoch 1/25\n",
      "45/45 [==============================] - 18s 116ms/step - loss: 0.0226\n",
      "Epoch 2/25\n",
      "45/45 [==============================] - 5s 116ms/step - loss: 0.0039\n",
      "Epoch 3/25\n",
      "45/45 [==============================] - 5s 114ms/step - loss: 0.0038\n",
      "Epoch 4/25\n",
      "45/45 [==============================] - 5s 109ms/step - loss: 0.0036\n",
      "Epoch 5/25\n",
      "45/45 [==============================] - 5s 111ms/step - loss: 0.0030\n",
      "Epoch 6/25\n",
      "45/45 [==============================] - 5s 110ms/step - loss: 0.0034\n",
      "Epoch 7/25\n",
      "45/45 [==============================] - 5s 108ms/step - loss: 0.0029\n",
      "Epoch 8/25\n",
      "45/45 [==============================] - 5s 121ms/step - loss: 0.0031\n",
      "Epoch 9/25\n",
      "45/45 [==============================] - 5s 118ms/step - loss: 0.0028\n",
      "Epoch 10/25\n",
      "45/45 [==============================] - 5s 113ms/step - loss: 0.0024\n",
      "Epoch 11/25\n",
      "45/45 [==============================] - 5s 114ms/step - loss: 0.0025\n",
      "Epoch 12/25\n",
      "45/45 [==============================] - 5s 112ms/step - loss: 0.0020\n",
      "Epoch 13/25\n",
      "45/45 [==============================] - 5s 117ms/step - loss: 0.0027\n",
      "Epoch 14/25\n",
      "45/45 [==============================] - 5s 111ms/step - loss: 0.0020\n",
      "Epoch 15/25\n",
      "45/45 [==============================] - 5s 111ms/step - loss: 0.0020\n",
      "Epoch 16/25\n",
      "45/45 [==============================] - 5s 108ms/step - loss: 0.0022\n",
      "Epoch 17/25\n",
      "45/45 [==============================] - 6s 127ms/step - loss: 0.0024\n",
      "Epoch 18/25\n",
      "45/45 [==============================] - 5s 116ms/step - loss: 0.0019\n",
      "Epoch 19/25\n",
      "45/45 [==============================] - 5s 116ms/step - loss: 0.0018\n",
      "Epoch 20/25\n",
      "45/45 [==============================] - 5s 112ms/step - loss: 0.0016\n",
      "Epoch 21/25\n",
      "45/45 [==============================] - 5s 109ms/step - loss: 0.0018\n",
      "Epoch 22/25\n",
      "45/45 [==============================] - 5s 120ms/step - loss: 0.0020\n",
      "Epoch 23/25\n",
      "45/45 [==============================] - 8s 173ms/step - loss: 0.0018\n",
      "Epoch 24/25\n",
      "10/45 [=====>........................] - ETA: 5s - loss: 0.0020"
     ]
    }
   ],
   "source": [
    "model = Sequential()\n",
    "\n",
    "model.add(LSTM(units = 50, return_sequences=True, input_shape=(x_train.shape[1], 1)))\n",
    "model.add(Dropout(0.2))\n",
    "model.add(LSTM(units=50, return_sequences=True))\n",
    "model.add(Dropout(0.2))\n",
    "model.add(LSTM(units=50))\n",
    "model.add(Dropout(0.2))\n",
    "model.add(Dense(units=1))\n",
    "\n",
    "model.compile(optimizer='adam', loss='mean_squared_error')\n",
    "model.fit(x_train, y_train, epochs=25, batch_size=32)"
   ]
  },
  {
   "cell_type": "markdown",
   "id": "ee8f078e",
   "metadata": {},
   "source": [
    "### Testing the Model"
   ]
  },
  {
   "cell_type": "code",
   "execution_count": null,
   "id": "09a79a21",
   "metadata": {},
   "outputs": [],
   "source": [
    "test_start = dt.datetime(2019,1,1)\n",
    "test_end = dt.datetime.now()\n",
    "\n",
    "test_data =  web.DataReader(f'{crypto_currency}-{against_cryptocurrency}', 'yahoo', test_start, test_end)\n",
    "actual_prices = test_data['Close'].values\n",
    "\n",
    "total_dataset = pd.concat((data['Close'], test_data['Close']), axis = 0)\n",
    "\n",
    "model_inputs = total_dataset[len(total_dataset) - len(test_data) - prediction_days:].values\n",
    "model_inputs = model_inputs.reshape(-1,1)\n",
    "model_inputs = scaler.fit_transform(model_inputs)\n",
    "\n",
    "x_test = []\n",
    "\n",
    "for x in range(prediction_days, len(model_inputs)):\n",
    "    x_test.append(model_inputs[x-prediction_days:x, 0])\n",
    "    \n",
    "x_test = np.array(x_test)\n",
    "x_test = np.reshape(x_test, (x_test.shape[0], x_test.shape[1], 1))\n",
    "\n",
    "prediction_prices = model.predict(x_test)\n",
    "prediction_prices = scaler.inverse_transform(prediction_prices)\n",
    "\n",
    "plt.plot(actual_prices, color='red', label='Actual Prices')\n",
    "plt.plot(prediction_prices, color='green', label='Predicted Prices')\n",
    "plt.title(f'{crypto_currency} price prediction')\n",
    "plt.xlabel('Time')\n",
    "plt.ylabel('Price')\n",
    "plt.legend(loc='upper left')\n",
    "plt.show()"
   ]
  }
 ],
 "metadata": {
  "kernelspec": {
   "display_name": "Python [conda env:py3-TF2.0]",
   "language": "python",
   "name": "conda-env-py3-TF2.0-py"
  },
  "language_info": {
   "codemirror_mode": {
    "name": "ipython",
    "version": 3
   },
   "file_extension": ".py",
   "mimetype": "text/x-python",
   "name": "python",
   "nbconvert_exporter": "python",
   "pygments_lexer": "ipython3",
   "version": "3.9.5"
  }
 },
 "nbformat": 4,
 "nbformat_minor": 5
}

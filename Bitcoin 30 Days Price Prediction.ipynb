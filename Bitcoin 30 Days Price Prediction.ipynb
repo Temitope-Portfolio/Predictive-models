{
 "cells": [
  {
   "cell_type": "markdown",
   "id": "25772abe",
   "metadata": {},
   "source": [
    "# Bitcoin 30 Days Price Prediction"
   ]
  },
  {
   "cell_type": "markdown",
   "id": "0023040d",
   "metadata": {},
   "source": [
    "### Import relevant libraries"
   ]
  },
  {
   "cell_type": "code",
   "execution_count": 1,
   "id": "3d79bd04",
   "metadata": {},
   "outputs": [],
   "source": [
    "import numpy as np\n",
    "import matplotlib.pyplot as plt\n",
    "import pandas as pd\n",
    "import pandas_datareader as web\n",
    "import datetime as dt\n",
    "\n",
    "from sklearn.preprocessing import MinMaxScaler\n",
    "from tensorflow.keras.layers import Dense, Dropout, LSTM\n",
    "from tensorflow.keras.models import Sequential"
   ]
  },
  {
   "cell_type": "markdown",
   "id": "bf880121",
   "metadata": {},
   "source": [
    "### Loading Financial Data and Time Frame"
   ]
  },
  {
   "cell_type": "code",
   "execution_count": 2,
   "id": "9d4cefa8",
   "metadata": {},
   "outputs": [],
   "source": [
    "crypto_currency = 'BTC'\n",
    "against_cryptocurrency = 'USD'\n",
    "\n",
    "start = dt.datetime(2018,1,1)\n",
    "end = dt.datetime.now()\n",
    "\n",
    "data =  web.DataReader(f'{crypto_currency}-{against_cryptocurrency}', 'yahoo', start, end)"
   ]
  },
  {
   "cell_type": "markdown",
   "id": "d24e371b",
   "metadata": {},
   "source": [
    "### Preparing Data"
   ]
  },
  {
   "cell_type": "code",
   "execution_count": 3,
   "id": "2e5c832e",
   "metadata": {},
   "outputs": [],
   "source": [
    "scaler = MinMaxScaler(feature_range=(0,1))\n",
    "scaled_data = scaler.fit_transform(data['Close'].values.reshape(-1,1))\n",
    "\n",
    "prediction_days = 60\n",
    "future_day = 30\n",
    "\n",
    "x_train, y_train = [], []\n",
    "\n",
    "for x in range(prediction_days, len(scaled_data)-future_day):\n",
    "    x_train.append(scaled_data[x-prediction_days:x, 0])\n",
    "    y_train.append(scaled_data[x+future_day, 0])\n",
    "    \n",
    "x_train, y_train = np.array(x_train), np.array(y_train)\n",
    "x_train = np.reshape(x_train, (x_train.shape[0], x_train.shape[1], 1))"
   ]
  },
  {
   "cell_type": "markdown",
   "id": "c7387df5",
   "metadata": {},
   "source": [
    "### Neural Network Model"
   ]
  },
  {
   "cell_type": "code",
   "execution_count": 4,
   "id": "fb63ea80",
   "metadata": {},
   "outputs": [
    {
     "name": "stdout",
     "output_type": "stream",
     "text": [
      "Epoch 1/25\n",
      "44/44 [==============================] - 46s 199ms/step - loss: 0.0244\n",
      "Epoch 2/25\n",
      "44/44 [==============================] - 8s 175ms/step - loss: 0.0109\n",
      "Epoch 3/25\n",
      "44/44 [==============================] - 8s 184ms/step - loss: 0.0088\n",
      "Epoch 4/25\n",
      "44/44 [==============================] - 6s 133ms/step - loss: 0.0078\n",
      "Epoch 5/25\n",
      "44/44 [==============================] - 5s 118ms/step - loss: 0.0072\n",
      "Epoch 6/25\n",
      "44/44 [==============================] - 6s 129ms/step - loss: 0.0063\n",
      "Epoch 7/25\n",
      "44/44 [==============================] - 5s 109ms/step - loss: 0.0076\n",
      "Epoch 8/25\n",
      "44/44 [==============================] - 4s 100ms/step - loss: 0.0064\n",
      "Epoch 9/25\n",
      "44/44 [==============================] - 4s 100ms/step - loss: 0.0062\n",
      "Epoch 10/25\n",
      "44/44 [==============================] - 4s 102ms/step - loss: 0.0068\n",
      "Epoch 11/25\n",
      "44/44 [==============================] - 6s 129ms/step - loss: 0.0057\n",
      "Epoch 12/25\n",
      "44/44 [==============================] - 5s 107ms/step - loss: 0.0064\n",
      "Epoch 13/25\n",
      "44/44 [==============================] - 5s 112ms/step - loss: 0.0056\n",
      "Epoch 14/25\n",
      "44/44 [==============================] - 5s 105ms/step - loss: 0.0056\n",
      "Epoch 15/25\n",
      "44/44 [==============================] - 4s 101ms/step - loss: 0.0057\n",
      "Epoch 16/25\n",
      "44/44 [==============================] - 5s 105ms/step - loss: 0.0056\n",
      "Epoch 17/25\n",
      "44/44 [==============================] - 5s 103ms/step - loss: 0.0048\n",
      "Epoch 18/25\n",
      "44/44 [==============================] - 4s 98ms/step - loss: 0.0051\n",
      "Epoch 19/25\n",
      "44/44 [==============================] - 4s 101ms/step - loss: 0.0053\n",
      "Epoch 20/25\n",
      "44/44 [==============================] - 4s 101ms/step - loss: 0.0051\n",
      "Epoch 21/25\n",
      "44/44 [==============================] - 4s 100ms/step - loss: 0.0042\n",
      "Epoch 22/25\n",
      "44/44 [==============================] - 5s 109ms/step - loss: 0.0051\n",
      "Epoch 23/25\n",
      "44/44 [==============================] - 5s 108ms/step - loss: 0.0050\n",
      "Epoch 24/25\n",
      "44/44 [==============================] - 5s 104ms/step - loss: 0.0042\n",
      "Epoch 25/25\n",
      "44/44 [==============================] - 4s 100ms/step - loss: 0.0046\n"
     ]
    },
    {
     "data": {
      "text/plain": [
       "<tensorflow.python.keras.callbacks.History at 0x214498c5820>"
      ]
     },
     "execution_count": 4,
     "metadata": {},
     "output_type": "execute_result"
    }
   ],
   "source": [
    "model = Sequential()\n",
    "\n",
    "model.add(LSTM(units = 50, return_sequences=True, input_shape=(x_train.shape[1], 1)))\n",
    "model.add(Dropout(0.2))\n",
    "model.add(LSTM(units=50, return_sequences=True))\n",
    "model.add(Dropout(0.2))\n",
    "model.add(LSTM(units=50))\n",
    "model.add(Dropout(0.2))\n",
    "model.add(Dense(units=1))\n",
    "\n",
    "model.compile(optimizer='adam', loss='mean_squared_error')\n",
    "model.fit(x_train, y_train, epochs=25, batch_size=32)\n"
   ]
  },
  {
   "cell_type": "markdown",
   "id": "52e5daaa",
   "metadata": {},
   "source": [
    "### Testing the Model"
   ]
  },
  {
   "cell_type": "code",
   "execution_count": 5,
   "id": "3e0796b4",
   "metadata": {},
   "outputs": [
    {
     "data": {
      "image/png": "[encoded data removed]",
      "text/plain": [
       "<Figure size 432x288 with 1 Axes>"
      ]
     },
     "metadata": {
      "needs_background": "light"
     },
     "output_type": "display_data"
    }
   ],
   "source": [
    "test_start = dt.datetime(2019,1,1)\n",
    "test_end = dt.datetime.now()\n",
    "\n",
    "test_data =  web.DataReader(f'{crypto_currency}-{against_cryptocurrency}', 'yahoo', test_start, test_end)\n",
    "actual_prices = test_data['Close'].values\n",
    "\n",
    "total_dataset = pd.concat((data['Close'], test_data['Close']), axis = 0)\n",
    "\n",
    "model_inputs = total_dataset[len(total_dataset) - len(test_data) - prediction_days:].values\n",
    "model_inputs = model_inputs.reshape(-1,1)\n",
    "model_inputs = scaler.fit_transform(model_inputs)\n",
    "\n",
    "x_test = []\n",
    "\n",
    "for x in range(prediction_days, len(model_inputs)):\n",
    "    x_test.append(model_inputs[x-prediction_days:x, 0])\n",
    "    \n",
    "x_test = np.array(x_test)\n",
    "x_test = np.reshape(x_test, (x_test.shape[0], x_test.shape[1], 1))\n",
    "\n",
    "prediction_prices = model.predict(x_test)\n",
    "prediction_prices = scaler.inverse_transform(prediction_prices)\n",
    "\n",
    "plt.plot(actual_prices, color='red', label='Actual Prices')\n",
    "plt.plot(prediction_prices, color='green', label='Predicted Prices')\n",
    "plt.title(f'{crypto_currency} price prediction')\n",
    "plt.xlabel('Time')\n",
    "plt.ylabel('Price')\n",
    "plt.legend(loc='upper left')\n",
    "plt.show()"
   ]
  }
 ],
 "metadata": {
  "kernelspec": {
   "display_name": "Python [conda env:py3-TF2.0]",
   "language": "python",
   "name": "conda-env-py3-TF2.0-py"
  },
  "language_info": {
   "codemirror_mode": {
    "name": "ipython",
    "version": 3
   },
   "file_extension": ".py",
   "mimetype": "text/x-python",
   "name": "python",
   "nbconvert_exporter": "python",
   "pygments_lexer": "ipython3",
   "version": "3.9.5"
  }
 },
 "nbformat": 4,
 "nbformat_minor": 5
}
